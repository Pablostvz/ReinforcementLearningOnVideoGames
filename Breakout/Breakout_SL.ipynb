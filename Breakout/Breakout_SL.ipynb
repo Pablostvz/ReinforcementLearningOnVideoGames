{
  "nbformat": 4,
  "nbformat_minor": 0,
  "metadata": {
    "kernelspec": {
      "display_name": "Python 3",
      "language": "python",
      "name": "python3"
    },
    "language_info": {
      "codemirror_mode": {
        "name": "ipython",
        "version": 3
      },
      "file_extension": ".py",
      "mimetype": "text/x-python",
      "name": "python",
      "nbconvert_exporter": "python",
      "pygments_lexer": "ipython3",
      "version": "3.7.0"
    },
    "colab": {
      "name": "RLfinal.ipynb",
      "provenance": [],
      "collapsed_sections": []
    },
    "accelerator": "GPU"
  },
  "cells": [
    {
      "cell_type": "code",
      "metadata": {
        "id": "KYyfpDz79HAh",
        "colab_type": "code",
        "colab": {}
      },
      "source": [
        "!pip install gym pyvirtualdisplay > /dev/null 2>&1\n",
        "!apt-get install -y xvfb python-opengl ffmpeg > /dev/null 2>&1"
      ],
      "execution_count": 27,
      "outputs": []
    },
    {
      "cell_type": "code",
      "metadata": {
        "id": "z1sz5Zrn80ps",
        "colab_type": "code",
        "colab": {
          "base_uri": "https://localhost:8080/",
          "height": 265
        },
        "outputId": "f76f20e6-3cc0-4177-fb49-8d4306eb62b2"
      },
      "source": [
        "!apt-get update > /dev/null 2>&1\n",
        "!apt-get install cmake > /dev/null 2>&1\n",
        "!pip install --upgrade setuptools 2>&1\n",
        "!pip install ez_setup > /dev/null 2>&1\n",
        "!pip install gym[atari] > /dev/null 2>&1"
      ],
      "execution_count": 28,
      "outputs": [
        {
          "output_type": "stream",
          "text": [
            "Collecting setuptools\n",
            "\u001b[?25l  Downloading https://files.pythonhosted.org/packages/e9/93/4860cebd5ad3ff2664ad3c966490ccb46e3b88458b2095145bca11727ca4/setuptools-47.3.1-py3-none-any.whl (582kB)\n",
            "\r\u001b[K     |▋                               | 10kB 21.8MB/s eta 0:00:01\r\u001b[K     |█▏                              | 20kB 4.7MB/s eta 0:00:01\r\u001b[K     |█▊                              | 30kB 6.0MB/s eta 0:00:01\r\u001b[K     |██▎                             | 40kB 6.1MB/s eta 0:00:01\r\u001b[K     |██▉                             | 51kB 5.2MB/s eta 0:00:01\r\u001b[K     |███▍                            | 61kB 5.8MB/s eta 0:00:01\r\u001b[K     |████                            | 71kB 6.2MB/s eta 0:00:01\r\u001b[K     |████▌                           | 81kB 6.7MB/s eta 0:00:01\r\u001b[K     |█████                           | 92kB 6.7MB/s eta 0:00:01\r\u001b[K     |█████▋                          | 102kB 6.4MB/s eta 0:00:01\r\u001b[K     |██████▏                         | 112kB 6.4MB/s eta 0:00:01\r\u001b[K     |██████▊                         | 122kB 6.4MB/s eta 0:00:01\r\u001b[K     |███████▎                        | 133kB 6.4MB/s eta 0:00:01\r\u001b[K     |███████▉                        | 143kB 6.4MB/s eta 0:00:01\r\u001b[K     |████████▍                       | 153kB 6.4MB/s eta 0:00:01\r\u001b[K     |█████████                       | 163kB 6.4MB/s eta 0:00:01\r\u001b[K     |█████████▋                      | 174kB 6.4MB/s eta 0:00:01\r\u001b[K     |██████████▏                     | 184kB 6.4MB/s eta 0:00:01\r\u001b[K     |██████████▊                     | 194kB 6.4MB/s eta 0:00:01\r\u001b[K     |███████████▎                    | 204kB 6.4MB/s eta 0:00:01\r\u001b[K     |███████████▉                    | 215kB 6.4MB/s eta 0:00:01\r\u001b[K     |████████████▍                   | 225kB 6.4MB/s eta 0:00:01\r\u001b[K     |█████████████                   | 235kB 6.4MB/s eta 0:00:01\r\u001b[K     |█████████████▌                  | 245kB 6.4MB/s eta 0:00:01\r\u001b[K     |██████████████                  | 256kB 6.4MB/s eta 0:00:01\r\u001b[K     |██████████████▋                 | 266kB 6.4MB/s eta 0:00:01\r\u001b[K     |███████████████▏                | 276kB 6.4MB/s eta 0:00:01\r\u001b[K     |███████████████▊                | 286kB 6.4MB/s eta 0:00:01\r\u001b[K     |████████████████▎               | 296kB 6.4MB/s eta 0:00:01\r\u001b[K     |████████████████▉               | 307kB 6.4MB/s eta 0:00:01\r\u001b[K     |█████████████████▍              | 317kB 6.4MB/s eta 0:00:01\r\u001b[K     |██████████████████              | 327kB 6.4MB/s eta 0:00:01\r\u001b[K     |██████████████████▌             | 337kB 6.4MB/s eta 0:00:01\r\u001b[K     |███████████████████▏            | 348kB 6.4MB/s eta 0:00:01\r\u001b[K     |███████████████████▊            | 358kB 6.4MB/s eta 0:00:01\r\u001b[K     |████████████████████▎           | 368kB 6.4MB/s eta 0:00:01\r\u001b[K     |████████████████████▉           | 378kB 6.4MB/s eta 0:00:01\r\u001b[K     |█████████████████████▍          | 389kB 6.4MB/s eta 0:00:01\r\u001b[K     |██████████████████████          | 399kB 6.4MB/s eta 0:00:01\r\u001b[K     |██████████████████████▌         | 409kB 6.4MB/s eta 0:00:01\r\u001b[K     |███████████████████████         | 419kB 6.4MB/s eta 0:00:01\r\u001b[K     |███████████████████████▋        | 430kB 6.4MB/s eta 0:00:01\r\u001b[K     |████████████████████████▏       | 440kB 6.4MB/s eta 0:00:01\r\u001b[K     |████████████████████████▊       | 450kB 6.4MB/s eta 0:00:01\r\u001b[K     |█████████████████████████▎      | 460kB 6.4MB/s eta 0:00:01\r\u001b[K     |█████████████████████████▉      | 471kB 6.4MB/s eta 0:00:01\r\u001b[K     |██████████████████████████▍     | 481kB 6.4MB/s eta 0:00:01\r\u001b[K     |███████████████████████████     | 491kB 6.4MB/s eta 0:00:01\r\u001b[K     |███████████████████████████▌    | 501kB 6.4MB/s eta 0:00:01\r\u001b[K     |████████████████████████████    | 512kB 6.4MB/s eta 0:00:01\r\u001b[K     |████████████████████████████▊   | 522kB 6.4MB/s eta 0:00:01\r\u001b[K     |█████████████████████████████▎  | 532kB 6.4MB/s eta 0:00:01\r\u001b[K     |█████████████████████████████▉  | 542kB 6.4MB/s eta 0:00:01\r\u001b[K     |██████████████████████████████▍ | 552kB 6.4MB/s eta 0:00:01\r\u001b[K     |███████████████████████████████ | 563kB 6.4MB/s eta 0:00:01\r\u001b[K     |███████████████████████████████▌| 573kB 6.4MB/s eta 0:00:01\r\u001b[K     |████████████████████████████████| 583kB 6.4MB/s \n",
            "\u001b[31mERROR: datascience 0.10.6 has requirement folium==0.2.1, but you'll have folium 0.8.3 which is incompatible.\u001b[0m\n",
            "\u001b[?25hInstalling collected packages: setuptools\n",
            "  Found existing installation: setuptools 47.1.1\n",
            "    Uninstalling setuptools-47.1.1:\n",
            "      Successfully uninstalled setuptools-47.1.1\n",
            "Successfully installed setuptools-47.3.1\n"
          ],
          "name": "stdout"
        },
        {
          "output_type": "display_data",
          "data": {
            "application/vnd.colab-display-data+json": {
              "pip_warning": {
                "packages": [
                  "pkg_resources"
                ]
              }
            }
          },
          "metadata": {
            "tags": []
          }
        }
      ]
    },
    {
      "cell_type": "code",
      "metadata": {
        "id": "IBzc0CoN8eJy",
        "colab_type": "code",
        "colab": {}
      },
      "source": [
        "import gym\n",
        "from gym import logger as gymlogger\n",
        "from gym.wrappers import Monitor\n",
        "gymlogger.set_level(40)\n",
        "from IPython.display import HTML\n",
        "from IPython import display as ipythondisplay\n",
        "import numpy as np\n",
        "import matplotlib.pyplot as plt\n",
        "import torch \n",
        "import torch.nn as nn\n",
        "import torch.optim as optim\n",
        "import torch.nn.functional as F\n",
        "import torchvision.transforms as T\n",
        "import time\n",
        "import os\n",
        "from PIL import Image\n",
        "import cv2\n",
        "import pandas as pd\n",
        "from collections import Counter\n",
        "from random import shuffle\n",
        "from PIL import Image\n",
        "import cv2\n",
        "import glob\n",
        "import io\n",
        "import base64"
      ],
      "execution_count": 5,
      "outputs": []
    },
    {
      "cell_type": "code",
      "metadata": {
        "id": "0OJ5FYt1C5zy",
        "colab_type": "code",
        "colab": {
          "base_uri": "https://localhost:8080/",
          "height": 126
        },
        "outputId": "037215ae-6750-4471-bf0f-fbe85e1b770f"
      },
      "source": [
        "from google.colab import drive\n",
        "\n",
        "drive.mount('/content/drive')\n",
        "data_path = '/content/drive/My Drive/DeepLearning_2020/BREAKOUT/'"
      ],
      "execution_count": 6,
      "outputs": [
        {
          "output_type": "stream",
          "text": [
            "Go to this URL in a browser: https://accounts.google.com/o/oauth2/auth?client_id=947318989803-6bn6qk8qdgf4n4g3pfee6491hc0brc4i.apps.googleusercontent.com&redirect_uri=urn%3aietf%3awg%3aoauth%3a2.0%3aoob&response_type=code&scope=email%20https%3a%2f%2fwww.googleapis.com%2fauth%2fdocs.test%20https%3a%2f%2fwww.googleapis.com%2fauth%2fdrive%20https%3a%2f%2fwww.googleapis.com%2fauth%2fdrive.photos.readonly%20https%3a%2f%2fwww.googleapis.com%2fauth%2fpeopleapi.readonly\n",
            "\n",
            "Enter your authorization code:\n",
            "··········\n",
            "Mounted at /content/drive\n"
          ],
          "name": "stdout"
        }
      ]
    },
    {
      "cell_type": "markdown",
      "metadata": {
        "id": "7PhCpbhV8eJ3",
        "colab_type": "text"
      },
      "source": [
        "# BREAKOUT PROJECT\n",
        "\n",
        "## Environment Information"
      ]
    },
    {
      "cell_type": "code",
      "metadata": {
        "id": "SDoNjahT8eJ4",
        "colab_type": "code",
        "colab": {
          "base_uri": "https://localhost:8080/",
          "height": 159
        },
        "outputId": "e0ba99f2-06f2-4895-b7d2-12814b0be2fa"
      },
      "source": [
        "env=gym.make(\"Breakout-v0\")\n",
        "print('Number of possible actions:',env.action_space)\n",
        "print('Observation space (information for the agent:',env.observation_space)\n",
        "print('Number of lifes per game:',5)\n",
        "print('Action meanings:')\n",
        "i=0\n",
        "for act in env.env.get_action_meanings():\n",
        "    print('  Action:',i, '  ',act)\n",
        "    i=i+1"
      ],
      "execution_count": 6,
      "outputs": [
        {
          "output_type": "stream",
          "text": [
            "Number of possible actions: Discrete(4)\n",
            "Observation space (information for the agent: Box(210, 160, 3)\n",
            "Number of lifes per game: 5\n",
            "Action meanings:\n",
            "  Action: 0    NOOP\n",
            "  Action: 1    FIRE\n",
            "  Action: 2    RIGHT\n",
            "  Action: 3    LEFT\n"
          ],
          "name": "stdout"
        }
      ]
    },
    {
      "cell_type": "code",
      "metadata": {
        "id": "bRPN-e7R9xQy",
        "colab_type": "code",
        "colab": {}
      },
      "source": [
        "\"\"\"\n",
        "Utility functions to enable video recording of gym environment and displaying it\n",
        "To enable video, just do \"env = wrap_env(env)\"\"\n",
        "\"\"\"\n",
        "\n",
        "def show_video():\n",
        "  mp4list = glob.glob('video/*.mp4')\n",
        "  if len(mp4list) > 0:\n",
        "    mp4 = mp4list[0]\n",
        "    video = io.open(mp4, 'r+b').read()\n",
        "    encoded = base64.b64encode(video)\n",
        "    ipythondisplay.display(HTML(data='''<video alt=\"test\" autoplay \n",
        "                loop controls style=\"height: 400px;\">\n",
        "                <source src=\"data:video/mp4;base64,{0}\" type=\"video/mp4\" />\n",
        "             </video>'''.format(encoded.decode('ascii'))))\n",
        "  else: \n",
        "    print(\"Could not find video\")\n",
        "    \n",
        "\n",
        "def wrap_env(env):\n",
        "  env = Monitor(env, './video', force=True)\n",
        "  return env"
      ],
      "execution_count": 29,
      "outputs": []
    },
    {
      "cell_type": "code",
      "metadata": {
        "id": "GDv9DTt1-dNi",
        "colab_type": "code",
        "colab": {
          "base_uri": "https://localhost:8080/",
          "height": 35
        },
        "outputId": "92b531aa-d9cc-46dc-a0cf-40c96f612911"
      },
      "source": [
        "from pyvirtualdisplay import Display\n",
        "display = Display(visible=0, size=(400, 300))\n",
        "display.start()"
      ],
      "execution_count": 30,
      "outputs": [
        {
          "output_type": "execute_result",
          "data": {
            "text/plain": [
              "<pyvirtualdisplay.display.Display at 0x7fb9f45cd2b0>"
            ]
          },
          "metadata": {
            "tags": []
          },
          "execution_count": 30
        }
      ]
    },
    {
      "cell_type": "markdown",
      "metadata": {
        "id": "JufTQ3VM8eJ8",
        "colab_type": "text"
      },
      "source": [
        "## Random Agent\n",
        "\n",
        "Our first approach is to have a random agent playing matches. As we can see the average reward per match is very low."
      ]
    },
    {
      "cell_type": "code",
      "metadata": {
        "id": "7RkIeDSe8eJ8",
        "colab_type": "code",
        "colab": {
          "base_uri": "https://localhost:8080/",
          "height": 420
        },
        "outputId": "a2f7d312-81e0-4caa-965c-6cee09e7a2a5"
      },
      "source": [
        "for i in range(0,1):\n",
        "    env=wrap_env(gym.make(\"Breakout-v0\"))\n",
        "    env.reset()\n",
        "    done=False\n",
        "    while not done:\n",
        "        #env.render()\n",
        "        action=np.random.randint(0,4)\n",
        "        state, reward, done, info=env.step(action)\n",
        "    env.close()\n",
        "    show_video()"
      ],
      "execution_count": 15,
      "outputs": [
        {
          "output_type": "display_data",
          "data": {
            "text/html": [
              "<video alt=\"test\" autoplay \n",
              "                loop controls style=\"height: 400px;\">\n",
              "                <source src=\"data:video/mp4;base64,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\" type=\"video/mp4\" />\n",
              "             </video>"
            ],
            "text/plain": [
              "<IPython.core.display.HTML object>"
            ]
          },
          "metadata": {
            "tags": []
          }
        }
      ]
    },
    {
      "cell_type": "markdown",
      "metadata": {
        "id": "AcSmDgow8eKA",
        "colab_type": "text"
      },
      "source": [
        "## AI Agent\n",
        "\n",
        "This agent will play by trying to locate the ball and the paddle with a simple algorithm and move according to this information."
      ]
    },
    {
      "cell_type": "code",
      "metadata": {
        "id": "H2NLfobJ8eKD",
        "colab_type": "code",
        "colab": {}
      },
      "source": [
        "#Color of the ball and the paddle\n",
        "color=[200,72,72]\n",
        "\n",
        "# Checks if a position has the ball and paddle color.\n",
        "def check_color(i,j,observation):\n",
        "    for k in range(0,3):\n",
        "        if observation[i][j][k]!=color[k]:\n",
        "            return 0\n",
        "    return 1\n",
        "\n",
        "# Calculates the x-coordinate of the paddle (center).\n",
        "def calculate_paddle(observation):\n",
        "    exit=0\n",
        "    i=192\n",
        "    for j in range(10, 152):\n",
        "        exit=check_color(i,j,observation)\n",
        "        if(exit==1):\n",
        "            exit2=0\n",
        "            for w in range(j, j+10):\n",
        "                exit2=check_color(i,w,observation)\n",
        "                if(exit2!=1):\n",
        "                    break\n",
        "            if(exit2==1):\n",
        "                break\n",
        "    if exit2==0:\n",
        "        return -1\n",
        "    return j+12\n",
        "\n",
        "# Calculates the x-coordinate of the ball in case the ball exists and it's near the paddle.\n",
        "def calculate_ball(observation):\n",
        "    exit=0\n",
        "    for i in range(90,192):\n",
        "        for j in range(10, 152):\n",
        "            exit=check_color(i,j,observation)\n",
        "            if(exit==1):\n",
        "                break\n",
        "        if(exit==1):\n",
        "            break\n",
        "    if exit==0:\n",
        "        return -1\n",
        "    return j+2"
      ],
      "execution_count": 16,
      "outputs": []
    },
    {
      "cell_type": "code",
      "metadata": {
        "id": "_8QOEqYQ8eKG",
        "colab_type": "code",
        "colab": {
          "base_uri": "https://localhost:8080/",
          "height": 420
        },
        "outputId": "9ecb8276-9b28-42a3-acda-6a45abc91301"
      },
      "source": [
        "for i in range(0,1):\n",
        "    env=wrap_env(gym.make(\"Breakout-v0\"))\n",
        "    env.reset()\n",
        "    done=False\n",
        "    lives=6\n",
        "    action=1\n",
        "    while not done:\n",
        "        state, reward, done, info=env.step(action)\n",
        "        x1=calculate_paddle(state)\n",
        "        x2=calculate_ball(state)\n",
        "        if(info['ale.lives']!=lives):\n",
        "            lives=info['ale.lives']\n",
        "            action=1\n",
        "        else:\n",
        "            action = 1\n",
        "            if x1!=-1 and x2!=-1:\n",
        "                if x1>x2:\n",
        "                    action=3\n",
        "                elif x1<x2:\n",
        "                    action=2\n",
        "                else:\n",
        "                    action=1\n",
        "        #env.render()\n",
        "    env.close()\n",
        "    show_video()"
      ],
      "execution_count": 19,
      "outputs": [
        {
          "output_type": "display_data",
          "data": {
            "text/html": [
              "<video alt=\"test\" autoplay \n",
              "                loop controls style=\"height: 400px;\">\n",
              "                <source src=\"data:video/mp4;base64,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\" type=\"video/mp4\" />\n",
              "             </video>"
            ],
            "text/plain": [
              "<IPython.core.display.HTML object>"
            ]
          },
          "metadata": {
            "tags": []
          }
        }
      ]
    },
    {
      "cell_type": "markdown",
      "metadata": {
        "id": "mGO1-c698eKN",
        "colab_type": "text"
      },
      "source": [
        "## Supervised Learning Agent\n",
        "\n",
        "This agent will try to learn by imitation. We let the AI play some games and used the data generated to train a neural network model."
      ]
    },
    {
      "cell_type": "markdown",
      "metadata": {
        "id": "cbjma1de8eKN",
        "colab_type": "text"
      },
      "source": [
        "### Step1: Screen Modification\n",
        "\n",
        "We decided to reduce the inputs for the neural network to 84x84x3. The reason is basically that some parts of the image such as the score are not needed for deciding the outputs. This also increments the computation and accuracy speed. This input is the concatenation of the current frame in grayscale with the two previous frames"
      ]
    },
    {
      "cell_type": "code",
      "metadata": {
        "id": "vGONRxZH8eKO",
        "colab_type": "code",
        "colab": {}
      },
      "source": [
        "resize = T.Compose([T.ToPILImage(),\n",
        "                    T.Resize((84, 84), interpolation=Image.CUBIC),\n",
        "                    T.ToTensor()])\n",
        "def get_cart_location(screen_width):\n",
        "    world_width = env.x_threshold * 2\n",
        "    scale = screen_width / world_width\n",
        "    return int(env.state[0] * scale + screen_width / 2.0)  # MIDDLE OF CART\n",
        "\n",
        "def get_screen():\n",
        "    screen = env.render(mode='rgb_array')\n",
        "    screen=cv2.cvtColor(screen,cv2.COLOR_BGR2GRAY).reshape(1,210,160)\n",
        "    _, screen_height, screen_width = screen.shape\n",
        "    view_width = int(screen_width * 0.9)\n",
        "    cart_location = int(screen_width/2)\n",
        "    slice_range = slice(cart_location - view_width // 2,\n",
        "                            cart_location + view_width // 2)\n",
        "        \n",
        "    slice_range2 = slice(60,\n",
        "                            screen_height)\n",
        "    screen = screen[:, slice_range2,slice_range]\n",
        "    \n",
        "    screen = np.ascontiguousarray(screen, dtype=np.float32) / 255\n",
        "    screen = torch.from_numpy(screen)\n",
        "    return resize(screen).unsqueeze(0).to(device)"
      ],
      "execution_count": 8,
      "outputs": []
    },
    {
      "cell_type": "code",
      "metadata": {
        "id": "kbgD_sbu8eKR",
        "colab_type": "code",
        "colab": {
          "base_uri": "https://localhost:8080/",
          "height": 304
        },
        "outputId": "c1cbddd9-569e-4f34-c564-20a2bc1cd39e"
      },
      "source": [
        "device = torch.device(\"cuda\" if torch.cuda.is_available() else \"cpu\")\n",
        "# Visualizing the input image\n",
        "env = gym.make(\"Breakout-ram-v0\").unwrapped\n",
        "w=env.reset()\n",
        "past_frame1 = get_screen()\n",
        "past_frame2 = get_screen()\n",
        "current_screen = get_screen()\n",
        "state=torch.cat((past_frame1,past_frame2,current_screen), 1)\n",
        "print(state.shape)\n",
        "plt.imshow(np.array(state[0]).transpose(1,2,0))\n",
        "env.close()\n",
        "print(state.numpy().shape)"
      ],
      "execution_count": 25,
      "outputs": [
        {
          "output_type": "stream",
          "text": [
            "torch.Size([1, 3, 84, 84])\n",
            "(1, 3, 84, 84)\n"
          ],
          "name": "stdout"
        },
        {
          "output_type": "display_data",
          "data": {
            "image/png": "[encoded data removed]",
            "text/plain": [
              "<Figure size 432x288 with 1 Axes>"
            ]
          },
          "metadata": {
            "tags": [],
            "needs_background": "light"
          }
        }
      ]
    },
    {
      "cell_type": "markdown",
      "metadata": {
        "id": "80l8ubhL8eKU",
        "colab_type": "text"
      },
      "source": [
        "### Step2: Generating the data\n",
        "\n",
        "We adapted the previous code to save the data generated by the AI agent and train with it."
      ]
    },
    {
      "cell_type": "code",
      "metadata": {
        "id": "v4BOaIxl8eKX",
        "colab_type": "code",
        "colab": {
          "base_uri": "https://localhost:8080/",
          "height": 88
        },
        "outputId": "4c73dc3e-f351-4691-c7a8-1bf2f0ad7f6e"
      },
      "source": [
        "device = torch.device(\"cuda\" if torch.cuda.is_available() else \"cpu\")\n",
        "#This file will save the data. We check if it exists to append the new data or create a new file.\n",
        "filename=data_path+'breakout_user_data.npy'\n",
        "if os.path.isfile(filename):\n",
        "    print('File already exists, loading data')\n",
        "    training_data=list(np.load(filename,allow_pickle=True))\n",
        "else: \n",
        "    print('File does not exist, creating new data')\n",
        "    training_data=[]\n",
        "\n",
        "for i in range(0,30):\n",
        "    print('Playing game ',i)\n",
        "    env=gym.make(\"Breakout-v0\")\n",
        "    env.reset()\n",
        "    done=False\n",
        "    lives=6\n",
        "    action=1\n",
        "    past_frame1 = get_screen()\n",
        "    past_frame2 = get_screen()\n",
        "    current_screen = get_screen()\n",
        "    state=torch.cat((past_frame1,past_frame2,current_screen), 1)\n",
        "    while not done:\n",
        "        state1, reward, done, info=env.step(action)\n",
        "        x1=calculate_paddle(state1)\n",
        "        x2=calculate_ball(state1)\n",
        "        if(info['ale.lives']!=lives):\n",
        "            lives=info['ale.lives']\n",
        "            action=1\n",
        "        else:\n",
        "            action = 1\n",
        "            if x1!=-1 and x2!=-1:\n",
        "                if x1>x2:\n",
        "                    action=3\n",
        "                elif x1<x2:\n",
        "                    action=2\n",
        "                else:\n",
        "                    action=1\n",
        "        output=action\n",
        "        past_frame2 = past_frame1\n",
        "        past_frame1 = current_screen\n",
        "        current_screen = get_screen()\n",
        "        if not done:\n",
        "            next_state = torch.cat((past_frame1,past_frame2,current_screen), 1)\n",
        "            state = next_state\n",
        "            training_data.append([state[0].numpy(),output])\n",
        "        else:\n",
        "            next_state = None\n",
        "    env.close()\n",
        "np.save(filename,training_data)\n",
        "print('File saved successfully')"
      ],
      "execution_count": 28,
      "outputs": [
        {
          "output_type": "stream",
          "text": [
            "File does not exist, creating new data\n",
            "Playing game  0\n",
            "Playing game  1\n",
            "Playing game  2\n"
          ],
          "name": "stdout"
        }
      ]
    },
    {
      "cell_type": "markdown",
      "metadata": {
        "id": "UlhPDk-78eKj",
        "colab_type": "text"
      },
      "source": [
        "### Step3: Balance data\n",
        "\n",
        "In this case we are interested in a similar proportion of 'right' and 'left' actions."
      ]
    },
    {
      "cell_type": "code",
      "metadata": {
        "id": "Mrz5uUXr8eKj",
        "colab_type": "code",
        "colab": {
          "base_uri": "https://localhost:8080/",
          "height": 417
        },
        "outputId": "d4758917-6cf3-4449-bdee-c6b1c7833677"
      },
      "source": [
        "filename2=data_path+'break_balanced.npy'\n",
        "train_data=np.load(data_path+'breakout_user_data.npy',allow_pickle=True)\n",
        "df=pd.DataFrame(train_data)\n",
        "print(Counter(df[1].apply(str)))\n",
        "\n",
        "zeros=[]\n",
        "rights=[]\n",
        "lefts=[]\n",
        "ones=[]\n",
        "\n",
        "for data in train_data:\n",
        "    img=data[0]\n",
        "    choice=data[1]\n",
        "    if choice==0:\n",
        "        zeros.append([img,choice])\n",
        "    elif choice==2:\n",
        "        rights.append([img,choice])\n",
        "    elif choice==3:\n",
        "        lefts.append([img,choice])\n",
        "\n",
        "lefts=lefts[:len(rights)][:len(lefts)]\n",
        "rights=rights[:len(lefts)]\n",
        "\n",
        "final_data=zeros+lefts+rights\n",
        "np.save(filename2,final_data)\n",
        "\n",
        "train_data=np.load(data_path+'break_balanced.npy',allow_pickle=True)\n",
        "df=pd.DataFrame(train_data)\n",
        "print(Counter(df[1].apply(str)))"
      ],
      "execution_count": 37,
      "outputs": [
        {
          "output_type": "stream",
          "text": [
            "Counter({'3': 1950, '2': 1612, '1': 110})\n"
          ],
          "name": "stdout"
        },
        {
          "output_type": "error",
          "ename": "KeyboardInterrupt",
          "evalue": "ignored",
          "traceback": [
            "\u001b[0;31m---------------------------------------------------------------------------\u001b[0m",
            "\u001b[0;31mKeyboardInterrupt\u001b[0m                         Traceback (most recent call last)",
            "\u001b[0;32m<ipython-input-37-d727bad0a843>\u001b[0m in \u001b[0;36m<module>\u001b[0;34m()\u001b[0m\n\u001b[1;32m     23\u001b[0m \u001b[0;34m\u001b[0m\u001b[0m\n\u001b[1;32m     24\u001b[0m \u001b[0mfinal_data\u001b[0m\u001b[0;34m=\u001b[0m\u001b[0mzeros\u001b[0m\u001b[0;34m+\u001b[0m\u001b[0mlefts\u001b[0m\u001b[0;34m+\u001b[0m\u001b[0mrights\u001b[0m\u001b[0;34m\u001b[0m\u001b[0;34m\u001b[0m\u001b[0m\n\u001b[0;32m---> 25\u001b[0;31m \u001b[0mnp\u001b[0m\u001b[0;34m.\u001b[0m\u001b[0msave\u001b[0m\u001b[0;34m(\u001b[0m\u001b[0mfilename2\u001b[0m\u001b[0;34m,\u001b[0m\u001b[0mfinal_data\u001b[0m\u001b[0;34m)\u001b[0m\u001b[0;34m\u001b[0m\u001b[0;34m\u001b[0m\u001b[0m\n\u001b[0m\u001b[1;32m     26\u001b[0m \u001b[0;34m\u001b[0m\u001b[0m\n\u001b[1;32m     27\u001b[0m \u001b[0mtrain_data\u001b[0m\u001b[0;34m=\u001b[0m\u001b[0mnp\u001b[0m\u001b[0;34m.\u001b[0m\u001b[0mload\u001b[0m\u001b[0;34m(\u001b[0m\u001b[0mdata_path\u001b[0m\u001b[0;34m+\u001b[0m\u001b[0;34m'break_balanced.npy'\u001b[0m\u001b[0;34m,\u001b[0m\u001b[0mallow_pickle\u001b[0m\u001b[0;34m=\u001b[0m\u001b[0;32mTrue\u001b[0m\u001b[0;34m)\u001b[0m\u001b[0;34m\u001b[0m\u001b[0;34m\u001b[0m\u001b[0m\n",
            "\u001b[0;32m<__array_function__ internals>\u001b[0m in \u001b[0;36msave\u001b[0;34m(*args, **kwargs)\u001b[0m\n",
            "\u001b[0;32m/usr/local/lib/python3.6/dist-packages/numpy/lib/npyio.py\u001b[0m in \u001b[0;36msave\u001b[0;34m(file, arr, allow_pickle, fix_imports)\u001b[0m\n\u001b[1;32m    539\u001b[0m         \u001b[0;32mif\u001b[0m \u001b[0;32mnot\u001b[0m \u001b[0mfile\u001b[0m\u001b[0;34m.\u001b[0m\u001b[0mendswith\u001b[0m\u001b[0;34m(\u001b[0m\u001b[0;34m'.npy'\u001b[0m\u001b[0;34m)\u001b[0m\u001b[0;34m:\u001b[0m\u001b[0;34m\u001b[0m\u001b[0;34m\u001b[0m\u001b[0m\n\u001b[1;32m    540\u001b[0m             \u001b[0mfile\u001b[0m \u001b[0;34m=\u001b[0m \u001b[0mfile\u001b[0m \u001b[0;34m+\u001b[0m \u001b[0;34m'.npy'\u001b[0m\u001b[0;34m\u001b[0m\u001b[0;34m\u001b[0m\u001b[0m\n\u001b[0;32m--> 541\u001b[0;31m         \u001b[0mfid\u001b[0m \u001b[0;34m=\u001b[0m \u001b[0mopen\u001b[0m\u001b[0;34m(\u001b[0m\u001b[0mfile\u001b[0m\u001b[0;34m,\u001b[0m \u001b[0;34m\"wb\"\u001b[0m\u001b[0;34m)\u001b[0m\u001b[0;34m\u001b[0m\u001b[0;34m\u001b[0m\u001b[0m\n\u001b[0m\u001b[1;32m    542\u001b[0m         \u001b[0mown_fid\u001b[0m \u001b[0;34m=\u001b[0m \u001b[0;32mTrue\u001b[0m\u001b[0;34m\u001b[0m\u001b[0;34m\u001b[0m\u001b[0m\n\u001b[1;32m    543\u001b[0m \u001b[0;34m\u001b[0m\u001b[0m\n",
            "\u001b[0;31mKeyboardInterrupt\u001b[0m: "
          ]
        }
      ]
    },
    {
      "cell_type": "markdown",
      "metadata": {
        "id": "CnLBDuB_8eKl",
        "colab_type": "text"
      },
      "source": [
        "### Step4: Defining the trainloader and network"
      ]
    },
    {
      "cell_type": "code",
      "metadata": {
        "id": "3qERYewy8eKm",
        "colab_type": "code",
        "colab": {}
      },
      "source": [
        "class MyModel(nn.Module):\n",
        "    def __init__(self, h, w, outputs):\n",
        "        super(MyModel, self).__init__()\n",
        "        self.conv1 = nn.Conv2d(3, 16, kernel_size=5, stride=2)\n",
        "        self.bn1 = nn.BatchNorm2d(16)\n",
        "        self.conv2 = nn.Conv2d(16, 32, kernel_size=5, stride=2)\n",
        "        self.bn2 = nn.BatchNorm2d(32)\n",
        "        self.conv3 = nn.Conv2d(32, 32, kernel_size=5, stride=2)\n",
        "        self.bn3 = nn.BatchNorm2d(32)\n",
        "\n",
        "        # Number of Linear input connections depends on output of conv2d layers\n",
        "        # and therefore the input image size, so compute it.\n",
        "        def conv2d_size_out(size, kernel_size = 5, stride = 2):\n",
        "            return (size - (kernel_size - 1) - 1) // stride  + 1\n",
        "        convw = conv2d_size_out(conv2d_size_out(conv2d_size_out(w)))\n",
        "        convh = conv2d_size_out(conv2d_size_out(conv2d_size_out(h)))\n",
        "        linear_input_size = convw * convh * 32\n",
        "        self.head = nn.Linear(linear_input_size, outputs)\n",
        "\n",
        "    # Called with either one element to determine next action, or a batch\n",
        "    # during optimization. Returns tensor([[left0exp,right0exp]...]).\n",
        "    def forward(self, x):\n",
        "        x = F.relu(self.bn1(self.conv1(x)))\n",
        "        x = F.relu(self.bn2(self.conv2(x)))\n",
        "        x = F.relu(self.bn3(self.conv3(x)))\n",
        "        return self.head(x.view(x.size(0), -1))\n",
        "model = MyModel(h=84,w=84,outputs=4)"
      ],
      "execution_count": 9,
      "outputs": []
    },
    {
      "cell_type": "code",
      "metadata": {
        "id": "xcK9m3I68eKp",
        "colab_type": "code",
        "colab": {
          "base_uri": "https://localhost:8080/",
          "height": 52
        },
        "outputId": "96d0846d-21c2-49de-dd6a-7ebb5c38dc95"
      },
      "source": [
        "WIDHT=84\n",
        "HEIGTH=84\n",
        "training_data=np.load(data_path+'break_balanced.npy',allow_pickle=True)\n",
        "device = torch.device(\"cuda\" if torch.cuda.is_available() else \"cpu\")\n",
        "n=int(len(training_data)*0.05)\n",
        "print('Total size:',len(training_data))\n",
        "X=[]\n",
        "Y=[]\n",
        "for i in range(0,len(training_data)-n):\n",
        "    X.append(np.array(training_data[i][0]))\n",
        "    Y.append(training_data[i][1])\n",
        "test_x=[]\n",
        "test_y=[]\n",
        "for i in range(len(training_data)-n,len(training_data)):\n",
        "    test_x.append(np.array(training_data[i][0]))\n",
        "    test_y.append(training_data[i][1])\n",
        "X=torch.from_numpy(np.array(X).reshape(-1,3,84,84))\n",
        "test_x=torch.from_numpy(np.array(test_x).reshape(-1,3,84,84))\n",
        "print(test_x.shape)"
      ],
      "execution_count": 39,
      "outputs": [
        {
          "output_type": "stream",
          "text": [
            "Total size: 20664\n",
            "torch.Size([1033, 3, 84, 84])\n"
          ],
          "name": "stdout"
        }
      ]
    },
    {
      "cell_type": "code",
      "metadata": {
        "id": "rEv2hhlf8eKs",
        "colab_type": "code",
        "colab": {}
      },
      "source": [
        "#Making native class loader\n",
        "class SVHN(torch.utils.data.Dataset):\n",
        "    # Initialization method for the dataset\n",
        "    def __init__(self,transform = None, type_data='train'):\n",
        "        if(type_data=='train'):\n",
        "            self.data = X\n",
        "            self.labels = Y\n",
        "        else:\n",
        "            self.data = test_x\n",
        "            self.labels = test_y\n",
        "        self.transform=transform\n",
        "     # What to do to load a single item in the dataset ( read image and label)    \n",
        "    def __getitem__(self, index):\n",
        "        data = self.data[index,:,:,:]\n",
        "        lbl = self.labels[index]\n",
        "        \n",
        "        # return the image and the label\n",
        "        return data,lbl\n",
        "    \n",
        "        pass\n",
        "    \n",
        "    # Return the number of images\n",
        "    def __len__(self):\n",
        "        return np.array(self.data).shape[0]\n",
        "\n",
        "SVHNTrain = SVHN(None,'train')\n",
        "train_loader = torch.utils.data.DataLoader(dataset=SVHNTrain,\n",
        "                                               batch_size=64, \n",
        "                                               shuffle=True)"
      ],
      "execution_count": 18,
      "outputs": []
    },
    {
      "cell_type": "code",
      "metadata": {
        "id": "7P0Zfl9G8eKu",
        "colab_type": "code",
        "colab": {}
      },
      "source": [
        "# Train function\n",
        "def train(CNN, train_loader, optimizer, num_epochs=5, model_name=data_path+'model.ckpt', device='cpu'):\n",
        "    CNN.train() # Set the model in train mode\n",
        "    total_step = len(train_loader)\n",
        "    losses_list = []\n",
        "    criterion = nn.CrossEntropyLoss()\n",
        "    # Iterate over epochs\n",
        "    for epoch in range(num_epochs):\n",
        "        # Iterate the dataset\n",
        "        loss_avg = 0\n",
        "        nBatches = 0\n",
        "        for i, (images, labels) in enumerate(train_loader):\n",
        "            # Get batch of samples and labels\n",
        "            images = images.to(device)\n",
        "            labels = labels.type(torch.LongTensor).to(device)\n",
        "\n",
        "            # Forward pass\n",
        "            outputs = CNN(images)\n",
        "            loss = criterion(outputs, labels)\n",
        "            \n",
        "            # Backward and optimize\n",
        "            optimizer.zero_grad()\n",
        "            loss.backward()\n",
        "            optimizer.step()\n",
        "\n",
        "            loss_avg += loss.cpu().item()\n",
        "            nBatches+=1\n",
        "            if (i+1) % 500 == 0:\n",
        "                print ('Epoch [{}/{}], Step [{}/{}], Loss: {:.4f}' \n",
        "                       .format(epoch+1, num_epochs, i+1, total_step, loss_avg / nBatches))\n",
        "        print ('Epoch [{}/{}], Step [{}/{}], Loss: {:.4f}' \n",
        "                       .format(epoch+1, num_epochs, i+1, total_step, loss_avg / nBatches))\n",
        "        losses_list.append(loss_avg / nBatches)\n",
        "        torch.save(CNN.state_dict(), model_name)\n",
        "          \n",
        "    return losses_list \n",
        "\n",
        "# Test funcion\n",
        "def test(CNN, test_loader):\n",
        "    CNN.eval()\n",
        "    with torch.no_grad():\n",
        "        correct = 0\n",
        "        total = 0\n",
        "        for images, labels in test_loader:\n",
        "            images = images.to(device)\n",
        "            labels = labels.to(device)\n",
        "            # get network predictions\n",
        "            outputs = CNN(images)\n",
        "\n",
        "            # get predicted class\n",
        "            _, predicted = torch.max(outputs.data, 1)\n",
        "\n",
        "            # compare with the ground-truth\n",
        "            total += labels.size(0)\n",
        "            correct += (predicted == labels).sum().item()\n",
        "        # return accuracy\n",
        "        print(predicted)\n",
        "        return 100 * correct / total"
      ],
      "execution_count": 19,
      "outputs": []
    },
    {
      "cell_type": "code",
      "metadata": {
        "id": "rN4gji688eKx",
        "colab_type": "code",
        "colab": {
          "base_uri": "https://localhost:8080/",
          "height": 461
        },
        "outputId": "de5f33d5-e423-465d-91dd-0a12c809d55e"
      },
      "source": [
        "my_model = MyModel(h=84,w=84,outputs=4)\n",
        "#my_model.cuda()\n",
        "#Initialize optimizer \n",
        "learning_rate = .001\n",
        "optimizer = torch.optim.SGD(my_model.parameters(),lr = learning_rate, \n",
        "                            weight_decay=1e-5, momentum=0.9)\n",
        "\n",
        "\n",
        "device = torch.device('cuda:0' if torch.cuda.is_available() else 'cpu')\n",
        "my_model = my_model.to(device)\n",
        "\n",
        "losses_list = train(my_model, train_loader, optimizer, num_epochs=25, model_name=data_path+'breakout_sl_1.ckpt', device=device)"
      ],
      "execution_count": 59,
      "outputs": [
        {
          "output_type": "stream",
          "text": [
            "Epoch [1/25], Step [48/48], Loss: 0.7370\n",
            "Epoch [2/25], Step [48/48], Loss: 0.6718\n",
            "Epoch [3/25], Step [48/48], Loss: 0.6513\n",
            "Epoch [4/25], Step [48/48], Loss: 0.6145\n",
            "Epoch [5/25], Step [48/48], Loss: 0.5685\n",
            "Epoch [6/25], Step [48/48], Loss: 0.5444\n",
            "Epoch [7/25], Step [48/48], Loss: 0.5271\n",
            "Epoch [8/25], Step [48/48], Loss: 0.5148\n",
            "Epoch [9/25], Step [48/48], Loss: 0.5055\n",
            "Epoch [10/25], Step [48/48], Loss: 0.4986\n",
            "Epoch [11/25], Step [48/48], Loss: 0.4743\n",
            "Epoch [12/25], Step [48/48], Loss: 0.4699\n",
            "Epoch [13/25], Step [48/48], Loss: 0.4544\n",
            "Epoch [14/25], Step [48/48], Loss: 0.4367\n",
            "Epoch [15/25], Step [48/48], Loss: 0.4289\n",
            "Epoch [16/25], Step [48/48], Loss: 0.4057\n",
            "Epoch [17/25], Step [48/48], Loss: 0.3954\n",
            "Epoch [18/25], Step [48/48], Loss: 0.3770\n",
            "Epoch [19/25], Step [48/48], Loss: 0.3505\n",
            "Epoch [20/25], Step [48/48], Loss: 0.3241\n",
            "Epoch [21/25], Step [48/48], Loss: 0.3056\n",
            "Epoch [22/25], Step [48/48], Loss: 0.3030\n",
            "Epoch [23/25], Step [48/48], Loss: 0.2778\n",
            "Epoch [24/25], Step [48/48], Loss: 0.2644\n",
            "Epoch [25/25], Step [48/48], Loss: 0.2368\n"
          ],
          "name": "stdout"
        }
      ]
    },
    {
      "cell_type": "code",
      "metadata": {
        "id": "FDPBuhtj8eK0",
        "colab_type": "code",
        "colab": {
          "base_uri": "https://localhost:8080/",
          "height": 52
        },
        "outputId": "0952446d-f5d0-474a-c76e-affef6c4eb0d"
      },
      "source": [
        "# Show results for all the trained models\n",
        "SVHNTest = SVHN(None,'test')\n",
        "test_loader = torch.utils.data.DataLoader(dataset=SVHNTest,\n",
        "                                               batch_size=64, \n",
        "                                               shuffle=True)\n",
        "my_net = MyModel(h=84,w=84,outputs=4)\n",
        "my_net.load_state_dict(torch.load(data_path+'breakout_sl_1.ckpt'))\n",
        "my_net.cuda()\n",
        "acc = test(my_net, test_loader)\n",
        "print('Accuracy MyNet: ' + str(acc))"
      ],
      "execution_count": 56,
      "outputs": [
        {
          "output_type": "stream",
          "text": [
            "tensor([2, 2, 2, 2, 2, 2, 2, 2, 2], device='cuda:0')\n",
            "Accuracy MyNet: 82.28460793804453\n"
          ],
          "name": "stdout"
        }
      ]
    },
    {
      "cell_type": "markdown",
      "metadata": {
        "id": "Qk-xSLJr8eK2",
        "colab_type": "text"
      },
      "source": [
        "### Step5: Test of the SL Agent"
      ]
    },
    {
      "cell_type": "code",
      "metadata": {
        "id": "_Xhd-Zlx8eK3",
        "colab_type": "code",
        "colab": {
          "base_uri": "https://localhost:8080/",
          "height": 177
        },
        "outputId": "d7a84d0f-0625-4356-86bd-9047352a20f9"
      },
      "source": [
        "my_net = MyModel(h=84,w=84,outputs=4)\n",
        "my_net.load_state_dict(torch.load(data_path+'breakout_sl_1.ckpt'))\n",
        "my_net.cuda()\n",
        "my_net.eval()"
      ],
      "execution_count": 57,
      "outputs": [
        {
          "output_type": "execute_result",
          "data": {
            "text/plain": [
              "MyModel(\n",
              "  (conv1): Conv2d(3, 16, kernel_size=(5, 5), stride=(2, 2))\n",
              "  (bn1): BatchNorm2d(16, eps=1e-05, momentum=0.1, affine=True, track_running_stats=True)\n",
              "  (conv2): Conv2d(16, 32, kernel_size=(5, 5), stride=(2, 2))\n",
              "  (bn2): BatchNorm2d(32, eps=1e-05, momentum=0.1, affine=True, track_running_stats=True)\n",
              "  (conv3): Conv2d(32, 32, kernel_size=(5, 5), stride=(2, 2))\n",
              "  (bn3): BatchNorm2d(32, eps=1e-05, momentum=0.1, affine=True, track_running_stats=True)\n",
              "  (head): Linear(in_features=1568, out_features=4, bias=True)\n",
              ")"
            ]
          },
          "metadata": {
            "tags": []
          },
          "execution_count": 57
        }
      ]
    },
    {
      "cell_type": "code",
      "metadata": {
        "id": "F-fPfQZb8eK6",
        "colab_type": "code",
        "colab": {
          "base_uri": "https://localhost:8080/",
          "height": 420
        },
        "outputId": "dd213c21-7af1-4ef9-d2e4-85f3c3f59d4b"
      },
      "source": [
        "for i in range(0,1):\n",
        "    env=wrap_env(gym.make(\"Breakout-v0\"))\n",
        "    env.reset()\n",
        "    done=False\n",
        "    lives=6\n",
        "    action=1\n",
        "    past_frame1 = get_screen()\n",
        "    past_frame2 = get_screen()\n",
        "    current_screen = get_screen()\n",
        "    state=torch.cat((past_frame1,past_frame2,current_screen), 1)\n",
        "    while not done:\n",
        "        state1, reward, done, info=env.step(action)\n",
        "        if(info['ale.lives']!=lives):\n",
        "            lives=info['ale.lives']\n",
        "            action=1\n",
        "        else:\n",
        "            outputs = my_net(state.to(device))\n",
        "            _, predicted = torch.max(outputs.data, 1)\n",
        "            allowed_values=[1,2,3]\n",
        "            if(predicted in allowed_values):\n",
        "                action=predicted\n",
        "            else:\n",
        "                action=1\n",
        "        output=action\n",
        "         # Observe new state\n",
        "        past_frame2 = past_frame1\n",
        "        past_frame1 = current_screen\n",
        "        current_screen = get_screen()\n",
        "        if not done:\n",
        "            next_state = torch.cat((past_frame1,past_frame2,current_screen), 1)\n",
        "            # Move to the next state\n",
        "            state = next_state\n",
        "        else:\n",
        "            next_state = None\n",
        "    env.close()\n",
        "    show_video()"
      ],
      "execution_count": 58,
      "outputs": [
        {
          "output_type": "display_data",
          "data": {
            "text/html": [
              "<video alt=\"test\" autoplay \n",
              "                loop controls style=\"height: 400px;\">\n",
              "                <source src=\"data:video/mp4;base64,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\" type=\"video/mp4\" />\n",
              "             </video>"
            ],
            "text/plain": [
              "<IPython.core.display.HTML object>"
            ]
          },
          "metadata": {
            "tags": []
          }
        }
      ]
    },
    {
      "cell_type": "code",
      "metadata": {
        "id": "oc0tkOq-8eK9",
        "colab_type": "code",
        "colab": {}
      },
      "source": [
        ""
      ],
      "execution_count": null,
      "outputs": []
    }
  ]
}