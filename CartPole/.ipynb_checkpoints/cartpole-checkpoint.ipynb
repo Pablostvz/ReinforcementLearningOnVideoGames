{
 "cells": [
  {
   "cell_type": "markdown",
   "metadata": {
    "colab_type": "text",
    "id": "MpO2Q10u5_kq"
   },
   "source": [
    "\n",
    "## Cartpole Implementation\n",
    "\n",
    "\n"
   ]
  },
  {
   "cell_type": "markdown",
   "metadata": {
    "colab_type": "text",
    "id": "Dd4zEDvF58Pf"
   },
   "source": [
    "Credits to: https://pytorch.org/tutorials/intermediate/reinforcement_q_learning.html"
   ]
  },
  {
   "cell_type": "code",
   "execution_count": 1,
   "metadata": {
    "colab": {
     "base_uri": "https://localhost:8080/",
     "height": 34
    },
    "colab_type": "code",
    "executionInfo": {
     "elapsed": 11507,
     "status": "ok",
     "timestamp": 1592396532539,
     "user": {
      "displayName": "FERRÁN DALMAU",
      "photoUrl": "",
      "userId": "08081274537421793539"
     },
     "user_tz": -120
    },
    "id": "0tAVR3TV5v7a",
    "outputId": "57c0869a-56fd-4d04-8b95-7074991c1dab"
   },
   "outputs": [
    {
     "name": "stdout",
     "output_type": "stream",
     "text": [
      "Requirement already satisfied: Box2D in /usr/local/lib/python3.6/dist-packages (2.3.10)\n"
     ]
    }
   ],
   "source": [
    "!apt-get install -y xvfb python-opengl > /dev/null 2>&1\n",
    "!pip install gym pyvirtualdisplay > /dev/null 2>&1\n",
    "!pip install Box2D"
   ]
  },
  {
   "cell_type": "markdown",
   "metadata": {
    "colab_type": "text",
    "id": "EbrF6Kgk6Uks"
   },
   "source": []
  },
  {
   "cell_type": "code",
   "execution_count": 2,
   "metadata": {
    "colab": {
     "base_uri": "https://localhost:8080/",
     "height": 34
    },
    "colab_type": "code",
    "executionInfo": {
     "elapsed": 12093,
     "status": "ok",
     "timestamp": 1592396533138,
     "user": {
      "displayName": "FERRÁN DALMAU",
      "photoUrl": "",
      "userId": "08081274537421793539"
     },
     "user_tz": -120
    },
    "id": "zP_Lf1FX6Tar",
    "outputId": "a58c7d6a-fe38-4ca1-b074-3ebccbf4725e"
   },
   "outputs": [
    {
     "name": "stdout",
     "output_type": "stream",
     "text": [
      "Drive already mounted at /content/drive; to attempt to forcibly remount, call drive.mount(\"/content/drive\", force_remount=True).\n"
     ]
    }
   ],
   "source": [
    "import gym\n",
    "from IPython import display\n",
    "import matplotlib.pyplot as plt\n",
    "%matplotlib inline\n",
    "\n",
    "import math\n",
    "import random\n",
    "import numpy as np\n",
    "import matplotlib\n",
    "from collections import namedtuple\n",
    "from itertools import count\n",
    "from PIL import Image\n",
    "\n",
    "import glob\n",
    "import io\n",
    "import base64\n",
    "from gym.wrappers import Monitor\n",
    "from IPython.display import HTML\n",
    "import imageio\n",
    "\n",
    "from gym import logger as gymlogger\n",
    "from gym.wrappers import Monitor\n",
    "gymlogger.set_level(40) #error only\n",
    "\n",
    "import torch\n",
    "import torch.nn as nn\n",
    "import torch.optim as optim\n",
    "import torch.nn.functional as F\n",
    "import torchvision.transforms as T\n",
    "\n",
    "\n",
    "from IPython.display import HTML\n",
    "from IPython import display as ipythondisplay\n",
    "\n",
    "from pyvirtualdisplay import Display\n",
    "display = Display(visible=0, size=(400, 300))\n",
    "display.start()\n",
    "\n",
    "colab = True\n",
    "if colab == True:\n",
    "    from google.colab import drive\n",
    "    # Mount Google Drive\n",
    "    drive.mount('/content/drive')\n",
    "    data_path = '/content/drive/My Drive/DeepLearning_2020/ReinforcementLearningOnVideoGames/data/models/'\n",
    "\n",
    "\n",
    "is_ipython = 'inline' in plt.get_backend()\n",
    "if is_ipython:\n",
    "    from IPython import display \n",
    "\n",
    "plt.ion()\n",
    "\n",
    "# Class used to display videos (Not done by us)\n",
    "def show_video():\n",
    "  mp4list = glob.glob('video/*.mp4')\n",
    "  if len(mp4list) > 0:\n",
    "    mp4 = mp4list[0]\n",
    "    video = io.open(mp4, 'r+b').read()\n",
    "    encoded = base64.b64encode(video)\n",
    "    display.display(HTML(data='''<video alt=\"test\" autoplay \n",
    "                loop controls style=\"height: 400px;\">\n",
    "                <source src=\"data:video/mp4;base64,{0}\" type=\"video/mp4\" />\n",
    "             </video>'''.format(encoded.decode('ascii'))))\n",
    "  else: \n",
    "    print(\"Could not find video\")\n",
    "\n",
    "\n",
    "def wrap_env(env):\n",
    "  env = Monitor(env, './video', force=True)\n",
    "  return env\n",
    "\n",
    "env = wrap_env(gym.make('CartPole-v0'))\n",
    "\n",
    "# if gpu is to be used\n",
    "device = torch.device(\"cuda:0\" if torch.cuda.is_available() else \"cpu\")"
   ]
  },
  {
   "cell_type": "markdown",
   "metadata": {
    "colab_type": "text",
    "id": "GyxE9sTb7PS0"
   },
   "source": []
  },
  {
   "cell_type": "code",
   "execution_count": 3,
   "metadata": {
    "colab": {},
    "colab_type": "code",
    "executionInfo": {
     "elapsed": 12089,
     "status": "ok",
     "timestamp": 1592396533142,
     "user": {
      "displayName": "FERRÁN DALMAU",
      "photoUrl": "",
      "userId": "08081274537421793539"
     },
     "user_tz": -120
    },
    "id": "_7_YGN8I64Nf"
   },
   "outputs": [],
   "source": [
    "Transition = namedtuple('Transition',\n",
    "                        ('state', 'action', 'next_state', 'reward'))\n",
    "\n",
    "\n",
    "class ReplayMemory(object):\n",
    "\n",
    "    def __init__(self, capacity):\n",
    "        self.capacity = capacity\n",
    "        self.memory = []\n",
    "        self.position = 0\n",
    "\n",
    "    def push(self, *args):\n",
    "        \"\"\"Saves a transition.\"\"\"\n",
    "        if len(self.memory) < self.capacity:\n",
    "            self.memory.append(None)\n",
    "        self.memory[self.position] = Transition(*args)\n",
    "        self.position = (self.position + 1) % self.capacity\n",
    "\n",
    "    def sample(self, batch_size):\n",
    "        return random.sample(self.memory, batch_size)\n",
    "\n",
    "    def __len__(self):\n",
    "        return len(self.memory)"
   ]
  },
  {
   "cell_type": "code",
   "execution_count": 4,
   "metadata": {
    "colab": {},
    "colab_type": "code",
    "executionInfo": {
     "elapsed": 12084,
     "status": "ok",
     "timestamp": 1592396533145,
     "user": {
      "displayName": "FERRÁN DALMAU",
      "photoUrl": "",
      "userId": "08081274537421793539"
     },
     "user_tz": -120
    },
    "id": "1r7pfNpk7XOj"
   },
   "outputs": [],
   "source": [
    "class DQN(nn.Module):\n",
    "\n",
    "    def __init__(self, h, w, outputs):\n",
    "        super(DQN, self).__init__()\n",
    "        self.conv1 = nn.Conv2d(3, 16, kernel_size=5, stride=2)\n",
    "        self.bn1 = nn.BatchNorm2d(16)\n",
    "        self.conv2 = nn.Conv2d(16, 32, kernel_size=5, stride=2)\n",
    "        self.bn2 = nn.BatchNorm2d(32)\n",
    "        self.conv3 = nn.Conv2d(32, 32, kernel_size=5, stride=2)\n",
    "        self.bn3 = nn.BatchNorm2d(32)\n",
    "\n",
    "        # Number of Linear input connections depends on output of conv2d layers\n",
    "        # and therefore the input image size, so compute it.\n",
    "        def conv2d_size_out(size, kernel_size = 5, stride = 2):\n",
    "            return (size - (kernel_size - 1) - 1) // stride  + 1\n",
    "        convw = conv2d_size_out(conv2d_size_out(conv2d_size_out(w)))\n",
    "        convh = conv2d_size_out(conv2d_size_out(conv2d_size_out(h)))\n",
    "        linear_input_size = convw * convh * 32\n",
    "        self.head = nn.Linear(linear_input_size, outputs)\n",
    "\n",
    "    # Called with either one element to determine next action, or a batch\n",
    "    # during optimization. Returns tensor([[left0exp,right0exp]...]).\n",
    "    def forward(self, x):\n",
    "        x = F.relu(self.bn1(self.conv1(x)))\n",
    "        x = F.relu(self.bn2(self.conv2(x)))\n",
    "        x = F.relu(self.bn3(self.conv3(x)))\n",
    "        return self.head(x.view(x.size(0), -1))"
   ]
  },
  {
   "cell_type": "code",
   "execution_count": 5,
   "metadata": {
    "colab": {
     "base_uri": "https://localhost:8080/",
     "height": 213
    },
    "colab_type": "code",
    "executionInfo": {
     "elapsed": 15327,
     "status": "ok",
     "timestamp": 1592396536396,
     "user": {
      "displayName": "FERRÁN DALMAU",
      "photoUrl": "",
      "userId": "08081274537421793539"
     },
     "user_tz": -120
    },
    "id": "v2rqjugB7Yzp",
    "outputId": "7d79e1e3-939f-4e07-e243-bb11296c5c8b"
   },
   "outputs": [
    {
     "data": {
      "image/png": "[encoded data removed]",
      "text/plain": [
       "<Figure size 432x288 with 1 Axes>"
      ]
     },
     "metadata": {
      "needs_background": "light",
      "tags": []
     },
     "output_type": "display_data"
    }
   ],
   "source": [
    "resize = T.Compose([T.ToPILImage(),\n",
    "                    T.Resize(40, interpolation=Image.CUBIC),\n",
    "                    T.ToTensor()])\n",
    "\n",
    "\n",
    "def get_cart_location(screen_width):\n",
    "    world_width = env.x_threshold * 2\n",
    "    scale = screen_width / world_width\n",
    "    return int(env.state[0] * scale + screen_width / 2.0)  # MIDDLE OF CART\n",
    "\n",
    "def get_screen():\n",
    "    # Returned screen requested by gym is 400x600x3, but is sometimes larger\n",
    "    # such as 800x1200x3. Transpose it into torch order (CHW).\n",
    "    screen = env.render(mode='rgb_array').transpose((2, 0, 1))\n",
    "    # Cart is in the lower half, so strip off the top and bottom of the screen\n",
    "    _, screen_height, screen_width = screen.shape\n",
    "    screen = screen[:, int(screen_height*0.4):int(screen_height * 0.8)]\n",
    "    view_width = int(screen_width * 0.6)\n",
    "    cart_location = get_cart_location(screen_width)\n",
    "    if cart_location < view_width // 2:\n",
    "        slice_range = slice(view_width)\n",
    "    elif cart_location > (screen_width - view_width // 2):\n",
    "        slice_range = slice(-view_width, None)\n",
    "    else:\n",
    "        slice_range = slice(cart_location - view_width // 2,\n",
    "                            cart_location + view_width // 2)\n",
    "    # Strip off the edges, so that we have a square image centered on a cart\n",
    "    screen = screen[:, :, slice_range]\n",
    "    # Convert to float, rescale, convert to torch tensor\n",
    "    # (this doesn't require a copy)\n",
    "    screen = np.ascontiguousarray(screen, dtype=np.float32) / 255\n",
    "    screen = torch.from_numpy(screen)\n",
    "    # Resize, and add a batch dimension (BCHW)\n",
    "    return resize(screen).unsqueeze(0).to(device)\n",
    "\n",
    "\n",
    "env.reset()\n",
    "plt.figure()\n",
    "plt.imshow(get_screen().cpu().squeeze(0).permute(1, 2, 0).numpy(),\n",
    "           interpolation='none')\n",
    "plt.title('Example extracted screen')\n",
    "plt.show()"
   ]
  },
  {
   "cell_type": "code",
   "execution_count": 7,
   "metadata": {
    "colab": {},
    "colab_type": "code",
    "executionInfo": {
     "elapsed": 847,
     "status": "ok",
     "timestamp": 1592396546146,
     "user": {
      "displayName": "FERRÁN DALMAU",
      "photoUrl": "",
      "userId": "08081274537421793539"
     },
     "user_tz": -120
    },
    "id": "VWFFI2817cKS"
   },
   "outputs": [],
   "source": [
    "BATCH_SIZE = 128\n",
    "GAMMA = 0.999\n",
    "EPS_START = 0.9\n",
    "EPS_END = 0.05\n",
    "EPS_DECAY = 200\n",
    "TARGET_UPDATE = 10\n",
    "\n",
    "# Get screen size so that we can initialize layers correctly based on shape\n",
    "# returned from AI gym. Typical dimensions at this point are close to 3x40x90\n",
    "# which is the result of a clamped and down-scaled render buffer in get_screen()\n",
    "init_screen = get_screen()\n",
    "_, _, screen_height, screen_width = init_screen.shape\n",
    "\n",
    "# Get number of actions from gym action space\n",
    "n_actions = env.action_space.n\n",
    "\n",
    "policy_net = DQN(screen_height, screen_width, n_actions).to(device)\n",
    "target_net = DQN(screen_height, screen_width, n_actions).to(device)\n",
    "target_net.load_state_dict(policy_net.state_dict())\n",
    "target_net.eval()\n",
    "\n",
    "#optimizer = optim.RMSprop(policy_net.parameters())\n",
    "optimizer = optim.Adam(policy_net.parameters(), lr = 0.001)\n",
    "memory = ReplayMemory(10000)\n",
    "\n",
    "\n",
    "steps_done = 0\n",
    "\n",
    "\n",
    "def select_action(state):\n",
    "    global steps_done\n",
    "    sample = random.random()\n",
    "    eps_threshold = EPS_END + (EPS_START - EPS_END) * \\\n",
    "        math.exp(-1. * steps_done / EPS_DECAY)\n",
    "    steps_done += 1\n",
    "    if sample > eps_threshold:\n",
    "        with torch.no_grad():\n",
    "            # t.max(1) will return largest column value of each row.\n",
    "            # second column on max result is index of where max element was\n",
    "            # found, so we pick action with the larger expected reward.\n",
    "            return policy_net(state).max(1)[1].view(1, 1)\n",
    "    else:\n",
    "        return torch.tensor([[random.randrange(n_actions)]], device=device, dtype=torch.long)\n",
    "\n",
    "\n",
    "episode_durations = []\n",
    "\n",
    "\n",
    "def plot_durations():\n",
    "    plt.figure(2)\n",
    "    plt.clf()\n",
    "    durations_t = torch.tensor(episode_durations, dtype=torch.float)\n",
    "    plt.title('Training...')\n",
    "    plt.xlabel('Episode')\n",
    "    plt.ylabel('Duration')\n",
    "    plt.plot(durations_t.numpy())\n",
    "    # Take 100 episode averages and plot them too\n",
    "    if len(durations_t) >= 100:\n",
    "        means = durations_t.unfold(0, 100, 1).mean(1).view(-1)\n",
    "        means = torch.cat((torch.zeros(99), means))\n",
    "        plt.plot(means.numpy())\n",
    "\n",
    "    plt.pause(0.001)  # pause a bit so that plots are updated\n",
    "    if is_ipython:\n",
    "        display.clear_output(wait=True)\n",
    "        display.display(plt.gcf())\n"
   ]
  },
  {
   "cell_type": "code",
   "execution_count": 8,
   "metadata": {
    "colab": {},
    "colab_type": "code",
    "executionInfo": {
     "elapsed": 675,
     "status": "ok",
     "timestamp": 1592396547489,
     "user": {
      "displayName": "FERRÁN DALMAU",
      "photoUrl": "",
      "userId": "08081274537421793539"
     },
     "user_tz": -120
    },
    "id": "ZjkslqgZ7y-L"
   },
   "outputs": [],
   "source": [
    "def optimize_model():\n",
    "    if len(memory) < BATCH_SIZE:\n",
    "        return\n",
    "    transitions = memory.sample(BATCH_SIZE)\n",
    "    # Transpose the batch (see https://stackoverflow.com/a/19343/3343043 for\n",
    "    # detailed explanation). This converts batch-array of Transitions\n",
    "    # to Transition of batch-arrays.\n",
    "    batch = Transition(*zip(*transitions))\n",
    "\n",
    "    # Compute a mask of non-final states and concatenate the batch elements\n",
    "    # (a final state would've been the one after which simulation ended)\n",
    "    non_final_mask = torch.tensor(tuple(map(lambda s: s is not None,\n",
    "                                          batch.next_state)), device=device, dtype=torch.bool)\n",
    "    non_final_next_states = torch.cat([s for s in batch.next_state\n",
    "                                                if s is not None])\n",
    "    state_batch = torch.cat(batch.state)\n",
    "    action_batch = torch.cat(batch.action)\n",
    "    reward_batch = torch.cat(batch.reward)\n",
    "\n",
    "    # Compute Q(s_t, a) - the model computes Q(s_t), then we select the\n",
    "    # columns of actions taken. These are the actions which would've been taken\n",
    "    # for each batch state according to policy_net\n",
    "    state_action_values = policy_net(state_batch).gather(1, action_batch)\n",
    "\n",
    "    # Compute V(s_{t+1}) for all next states.\n",
    "    # Expected values of actions for non_final_next_states are computed based\n",
    "    # on the \"older\" target_net; selecting their best reward with max(1)[0].\n",
    "    # This is merged based on the mask, such that we'll have either the expected\n",
    "    # state value or 0 in case the state was final.\n",
    "    next_state_values = torch.zeros(BATCH_SIZE, device=device)\n",
    "    next_state_values[non_final_mask] = target_net(non_final_next_states).max(1)[0].detach()\n",
    "    # Compute the expected Q values\n",
    "    expected_state_action_values = (next_state_values * GAMMA) + reward_batch\n",
    "\n",
    "    # Compute Huber loss\n",
    "    loss = F.smooth_l1_loss(state_action_values, expected_state_action_values.unsqueeze(1))\n",
    "\n",
    "    # Optimize the model\n",
    "    optimizer.zero_grad()\n",
    "    loss.backward()\n",
    "    for param in policy_net.parameters():\n",
    "        param.grad.data.clamp_(-1, 1)\n",
    "    optimizer.step()\n"
   ]
  },
  {
   "cell_type": "code",
   "execution_count": 9,
   "metadata": {
    "colab": {
     "base_uri": "https://localhost:8080/",
     "height": 625
    },
    "colab_type": "code",
    "executionInfo": {
     "elapsed": 1214994,
     "status": "ok",
     "timestamp": 1592397762615,
     "user": {
      "displayName": "FERRÁN DALMAU",
      "photoUrl": "",
      "userId": "08081274537421793539"
     },
     "user_tz": -120
    },
    "id": "JI4btozC710G",
    "outputId": "2ca2c2d2-53ba-48c7-c0c0-a1526b0476d7"
   },
   "outputs": [
    {
     "name": "stdout",
     "output_type": "stream",
     "text": [
      "Episode:  0 Score:  tensor([11.], device='cuda:0')\n",
      "Episode:  30 Score:  tensor([10.], device='cuda:0')\n",
      "Episode:  60 Score:  tensor([14.], device='cuda:0')\n",
      "Episode:  90 Score:  tensor([79.], device='cuda:0')\n",
      "Episode:  120 Score:  tensor([200.], device='cuda:0')\n",
      "Episode:  150 Score:  tensor([57.], device='cuda:0')\n",
      "Episode:  180 Score:  tensor([177.], device='cuda:0')\n",
      "Episode:  210 Score:  tensor([28.], device='cuda:0')\n",
      "Episode:  240 Score:  tensor([13.], device='cuda:0')\n",
      "Episode:  270 Score:  tensor([37.], device='cuda:0')\n",
      "Episode:  300 Score:  tensor([98.], device='cuda:0')\n",
      "Episode:  330 Score:  tensor([92.], device='cuda:0')\n",
      "Episode:  360 Score:  tensor([16.], device='cuda:0')\n",
      "Episode:  390 Score:  tensor([56.], device='cuda:0')\n",
      "Episode:  420 Score:  tensor([59.], device='cuda:0')\n",
      "Episode:  450 Score:  tensor([177.], device='cuda:0')\n",
      "Episode:  480 Score:  tensor([45.], device='cuda:0')\n",
      "Episode:  510 Score:  tensor([17.], device='cuda:0')\n",
      "Episode:  540 Score:  tensor([16.], device='cuda:0')\n",
      "Episode:  570 Score:  tensor([14.], device='cuda:0')\n",
      "Episode:  600 Score:  tensor([111.], device='cuda:0')\n",
      "Episode:  630 Score:  tensor([200.], device='cuda:0')\n",
      "Episode:  660 Score:  tensor([32.], device='cuda:0')\n",
      "Episode:  690 Score:  tensor([34.], device='cuda:0')\n",
      "Episode:  720 Score:  tensor([98.], device='cuda:0')\n",
      "Episode:  750 Score:  tensor([19.], device='cuda:0')\n",
      "Episode:  780 Score:  tensor([98.], device='cuda:0')\n",
      "Episode:  810 Score:  tensor([72.], device='cuda:0')\n",
      "Episode:  840 Score:  tensor([64.], device='cuda:0')\n",
      "Episode:  870 Score:  tensor([104.], device='cuda:0')\n",
      "Episode:  900 Score:  tensor([14.], device='cuda:0')\n",
      "Episode:  930 Score:  tensor([28.], device='cuda:0')\n",
      "Episode:  960 Score:  tensor([20.], device='cuda:0')\n",
      "Episode:  990 Score:  tensor([80.], device='cuda:0')\n",
      "Complete\n"
     ]
    }
   ],
   "source": [
    "num_episodes = 1000\n",
    "for i_episode in range(num_episodes):\n",
    "    # Initialize the environment and state\n",
    "    env.reset()\n",
    "    last_screen = get_screen()\n",
    "    current_screen = get_screen()\n",
    "    state = current_screen - last_screen\n",
    "    score = 0\n",
    "    for t in count():\n",
    "        # Select and perform an action\n",
    "        action = select_action(state)\n",
    "        _, reward, done, _ = env.step(action.item())\n",
    "        reward = torch.tensor([reward], device=device)\n",
    "\n",
    "        # Observe new state\n",
    "        last_screen = current_screen\n",
    "        current_screen = get_screen()\n",
    "        if not done:\n",
    "            next_state = current_screen - last_screen\n",
    "        else:\n",
    "            next_state = None\n",
    "\n",
    "        # Store the transition in memory\n",
    "        memory.push(state, action, next_state, reward)\n",
    "\n",
    "        # Move to the next state\n",
    "        state = next_state\n",
    "        score +=reward\n",
    "        # Perform one step of the optimization (on the target network)\n",
    "        optimize_model()\n",
    "        if done:\n",
    "            episode_durations.append(t + 1)\n",
    "            #plot_durations()\n",
    "            if i_episode % 30 == 0:\n",
    "                print('Episode: ', i_episode, 'Score: ' ,score)\n",
    "            \n",
    "            break\n",
    "    # Update the target network, copying all weights and biases in DQN\n",
    "    \n",
    "    if i_episode % TARGET_UPDATE == 0:\n",
    "        target_net.load_state_dict(policy_net.state_dict())\n",
    "        if colab == True:\n",
    "            torch.save(policy_net.state_dict(), data_path +'Cartpole_model.ckpt')\n",
    "        else:\n",
    "            torch.save(policy_net.state_dict(),'Cartpole_model.ckpt')\n",
    "\n",
    "\n",
    "print('Complete')\n",
    "env.close()\n",
    "plt.ioff()\n",
    "plt.show()"
   ]
  },
  {
   "cell_type": "markdown",
   "metadata": {
    "colab_type": "text",
    "id": "7hmaoFpZDWZ1"
   },
   "source": [
    "### Test"
   ]
  },
  {
   "cell_type": "code",
   "execution_count": 12,
   "metadata": {
    "colab": {
     "base_uri": "https://localhost:8080/",
     "height": 1000
    },
    "colab_type": "code",
    "executionInfo": {
     "elapsed": 6079,
     "status": "ok",
     "timestamp": 1592397864158,
     "user": {
      "displayName": "FERRÁN DALMAU",
      "photoUrl": "",
      "userId": "08081274537421793539"
     },
     "user_tz": -120
    },
    "id": "5lE7ovpC76Ty",
    "outputId": "e0ad2a47-996f-44c8-d2b7-c0f1fffa5d5f"
   },
   "outputs": [
    {
     "data": {
      "text/html": [
       "<video alt=\"test\" autoplay \n",
       "                loop controls style=\"height: 400px;\">\n",
       "                <source src=\"data:video/mp4;base64,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\" type=\"video/mp4\" />\n",
       "             </video>"
      ],
      "text/plain": [
       "<IPython.core.display.HTML object>"
      ]
     },
     "metadata": {
      "tags": []
     },
     "output_type": "display_data"
    },
    {
     "data": {
      "text/html": [
       "<video alt=\"test\" autoplay \n",
       "                loop controls style=\"height: 400px;\">\n",
       "                <source src=\"data:video/mp4;base64,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\" type=\"video/mp4\" />\n",
       "             </video>"
      ],
      "text/plain": [
       "<IPython.core.display.HTML object>"
      ]
     },
     "metadata": {
      "tags": []
     },
     "output_type": "display_data"
    },
    {
     "data": {
      "text/html": [
       "<video alt=\"test\" autoplay \n",
       "                loop controls style=\"height: 400px;\">\n",
       "                <source src=\"data:video/mp4;base64,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\" type=\"video/mp4\" />\n",
       "             </video>"
      ],
      "text/plain": [
       "<IPython.core.display.HTML object>"
      ]
     },
     "metadata": {
      "tags": []
     },
     "output_type": "display_data"
    },
    {
     "name": "stdout",
     "output_type": "stream",
     "text": [
      "Complete\n"
     ]
    }
   ],
   "source": [
    "\n",
    "\n",
    "policy_net = DQN(screen_height, screen_width, n_actions).to(device)\n",
    "policy_net.load_state_dict(torch.load(data_path +'Cartpole_model.ckpt'))\n",
    "\n",
    "\n",
    "target_net = DQN(screen_height, screen_width, n_actions).to(device)\n",
    "target_net.load_state_dict(torch.load(data_path +'Cartpole_model.ckpt'))\n",
    "target_net.eval()\n",
    "\n",
    "\n",
    "num_episodes = 3\n",
    "for i_episode in range(num_episodes):\n",
    "    # Initialize the environment and state\n",
    "    env = wrap_env(gym.make('CartPole-v0'))\n",
    "    env.reset()\n",
    "    last_screen = get_screen()\n",
    "    current_screen = get_screen()\n",
    "    state = current_screen - last_screen\n",
    "    score = 0\n",
    "    for t in count():\n",
    "        # Select and perform an action\n",
    "        action = select_action(state)\n",
    "        _, reward, done, _ = env.step(action.item())\n",
    "        reward = torch.tensor([reward], device=device)\n",
    "\n",
    "        # Observe new state\n",
    "        last_screen = current_screen\n",
    "        current_screen = get_screen()\n",
    "        if not done:\n",
    "            next_state = current_screen - last_screen\n",
    "        else:\n",
    "            next_state = None\n",
    "\n",
    "        # Store the transition in memory\n",
    "        memory.push(state, action, next_state, reward)\n",
    "\n",
    "        # Move to the next state\n",
    "        state = next_state\n",
    "        score +=reward\n",
    "        # Perform one step of the optimization (on the target network)\n",
    "        #optimize_model()\n",
    "        if done:\n",
    "          \n",
    "          break\n",
    "    env.close() \n",
    "    show_video() \n",
    "        \n",
    "    # Update the target network, copying all weights and biases in DQN\n",
    "    \n",
    "print('Complete')\n",
    "env.close()\n",
    "plt.ioff()\n",
    "plt.show()\n"
   ]
  },
  {
   "cell_type": "code",
   "execution_count": null,
   "metadata": {
    "colab": {},
    "colab_type": "code",
    "executionInfo": {
     "elapsed": 15284,
     "status": "aborted",
     "timestamp": 1592396536409,
     "user": {
      "displayName": "FERRÁN DALMAU",
      "photoUrl": "",
      "userId": "08081274537421793539"
     },
     "user_tz": -120
    },
    "id": "DKFKQTPzDcMl"
   },
   "outputs": [],
   "source": []
  }
 ],
 "metadata": {
  "accelerator": "GPU",
  "colab": {
   "authorship_tag": "ABX9TyPQCjVS/r47RULaUkvmxyhU",
   "collapsed_sections": [],
   "name": "cartpole.ipynb",
   "provenance": []
  },
  "kernelspec": {
   "display_name": "Python 3",
   "language": "python",
   "name": "python3"
  },
  "language_info": {
   "codemirror_mode": {
    "name": "ipython",
    "version": 3
   },
   "file_extension": ".py",
   "mimetype": "text/x-python",
   "name": "python",
   "nbconvert_exporter": "python",
   "pygments_lexer": "ipython3",
   "version": "3.7.4"
  }
 },
 "nbformat": 4,
 "nbformat_minor": 4
}
